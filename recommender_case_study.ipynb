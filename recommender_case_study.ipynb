{
 "cells": [
  {
   "cell_type": "code",
   "execution_count": 4,
   "metadata": {},
   "outputs": [],
   "source": [
    "import pandas as pd\n",
    "# import graphlab as gl\n",
    "import matplotlib.pyplot as plt\n",
    "import seaborn as sns\n",
    "# import src.rec_ru"
   ]
  },
  {
   "cell_type": "code",
   "execution_count": 50,
   "metadata": {},
   "outputs": [
    {
     "data": {
      "text/plain": [
       "u'/Users/gstudent/Desktop/dsi-recommender-case-study-master'"
      ]
     },
     "execution_count": 50,
     "metadata": {},
     "output_type": "execute_result"
    }
   ],
   "source": []
  },
  {
   "cell_type": "code",
   "execution_count": 6,
   "metadata": {
    "collapsed": true
   },
   "outputs": [],
   "source": [
    "df = pd.read_table('data/ratings.dat')\n",
    "df2 = pd.read_table('data/jokes.dat')"
   ]
  },
  {
   "cell_type": "code",
   "execution_count": 7,
   "metadata": {},
   "outputs": [
    {
     "data": {
      "text/html": [
       "<div>\n",
       "<style>\n",
       "    .dataframe thead tr:only-child th {\n",
       "        text-align: right;\n",
       "    }\n",
       "\n",
       "    .dataframe thead th {\n",
       "        text-align: left;\n",
       "    }\n",
       "\n",
       "    .dataframe tbody tr th {\n",
       "        vertical-align: top;\n",
       "    }\n",
       "</style>\n",
       "<table border=\"1\" class=\"dataframe\">\n",
       "  <thead>\n",
       "    <tr style=\"text-align: right;\">\n",
       "      <th></th>\n",
       "      <th>user_id</th>\n",
       "      <th>joke_id</th>\n",
       "      <th>rating</th>\n",
       "    </tr>\n",
       "  </thead>\n",
       "  <tbody>\n",
       "    <tr>\n",
       "      <th>0</th>\n",
       "      <td>34888</td>\n",
       "      <td>111</td>\n",
       "      <td>-9.71875</td>\n",
       "    </tr>\n",
       "    <tr>\n",
       "      <th>1</th>\n",
       "      <td>49651</td>\n",
       "      <td>119</td>\n",
       "      <td>4.75000</td>\n",
       "    </tr>\n",
       "    <tr>\n",
       "      <th>2</th>\n",
       "      <td>29027</td>\n",
       "      <td>137</td>\n",
       "      <td>2.62500</td>\n",
       "    </tr>\n",
       "    <tr>\n",
       "      <th>3</th>\n",
       "      <td>25235</td>\n",
       "      <td>30</td>\n",
       "      <td>-2.43750</td>\n",
       "    </tr>\n",
       "    <tr>\n",
       "      <th>4</th>\n",
       "      <td>50499</td>\n",
       "      <td>19</td>\n",
       "      <td>2.18750</td>\n",
       "    </tr>\n",
       "  </tbody>\n",
       "</table>\n",
       "</div>"
      ],
      "text/plain": [
       "   user_id  joke_id   rating\n",
       "0    34888      111 -9.71875\n",
       "1    49651      119  4.75000\n",
       "2    29027      137  2.62500\n",
       "3    25235       30 -2.43750\n",
       "4    50499       19  2.18750"
      ]
     },
     "execution_count": 7,
     "metadata": {},
     "output_type": "execute_result"
    }
   ],
   "source": [
    "df.head()"
   ]
  },
  {
   "cell_type": "code",
   "execution_count": 16,
   "metadata": {},
   "outputs": [
    {
     "name": "stdout",
     "output_type": "stream",
     "text": [
      "                                                     1:\n",
      "0                                                   <p>\n",
      "1     A man visits the doctor. The doctor says, &quo...\n",
      "2                                                <br />\n",
      "3     The man replies, &quot;Well, thank God I don&#...\n",
      "4                                                  </p>\n",
      "5                                                    2:\n",
      "6                                                   <p>\n",
      "7     This couple had an excellent relationship goin...\n",
      "8                                                <br />\n",
      "9     &quot;What could they possibly have said to ma...\n",
      "10                                               <br />\n",
      "11    &quot;They told me that you were a pedophile.&...\n",
      "12                                               <br />\n",
      "13    He replied, &quot;That&#039;s an awfully big w...\n",
      "14                                                 </p>\n",
      "15                                                   3:\n",
      "16                                                  <p>\n",
      "17    Q. What&#039;s 200 feet long and has 4 teeth?<...\n",
      "18                                               <br />\n",
      "19         A. The front row at a Willie Nelson concert.\n",
      "20                                                 </p>\n",
      "21                                                   4:\n",
      "22                                                  <p>\n",
      "23    Q. What&#039;s the difference between a man an...\n",
      "24                                               <br />\n",
      "25    A. A toilet doesn&#039;t follow you around aft...\n",
      "26                                                 </p>\n",
      "27                                                   5:\n",
      "28                                                  <p>\n",
      "29    Q. What&#039;s O. J. Simpson&#039;s web addres...\n",
      "...                                                 ...\n",
      "1246  Recently a teacher, a garbage collector, and a...\n",
      "1247                                             <br />\n",
      "1248  St. Peter addressed the teacher and asked, &qu...\n",
      "1249                                             <br />\n",
      "1250  The teacher answered quickly, &quot;That would...\n",
      "1251                                             <br />\n",
      "1252  St. Peter turned to the garbage man and, figur...\n",
      "1253                                             <br />\n",
      "1254  Fortunately for him, the trash man had just se...\n",
      "1255                                             <br />\n",
      "1256  &quot;That&#039;s right! You may enter.&quot;<...\n",
      "1257                                             <br />\n",
      "1258  St. Peter turned to the lawyer: &quot;Name the...\n",
      "1259                                               </p>\n",
      "1260                                               149:\n",
      "1261                                                <p>\n",
      "1262  A little girl asked her father, &quot;Daddy? D...\n",
      "1263                                             <br />\n",
      "1264  He replied, &quot;No, there is a whole series ...\n",
      "1265                                               </p>\n",
      "1266                                               150:\n",
      "1267                                                <p>\n",
      "1268  In an interview with David Letterman, Carter p...\n",
      "1269                                             <br />\n",
      "1270  He told the joke, then waited for the translat...\n",
      "1271                                             <br />\n",
      "1272  After the speech, Carter wanted to meet the tr...\n",
      "1273                                             <br />\n",
      "1274  When Carter asked how the joke had been told i...\n",
      "1275                                               </p>\n",
      "\n",
      "[1276 rows x 1 columns]\n"
     ]
    }
   ],
   "source": [
    "print (df2[df2 ])"
   ]
  },
  {
   "cell_type": "code",
   "execution_count": 10,
   "metadata": {},
   "outputs": [
    {
     "name": "stdout",
     "output_type": "stream",
     "text": [
      "This non-commercial license of GraphLab Create for academic use is assigned to tyler.n.watson@gmail.com and will expire on December 15, 2018.\n"
     ]
    },
    {
     "name": "stderr",
     "output_type": "stream",
     "text": [
      "[INFO] graphlab.cython.cy_server: GraphLab Create v2.1 started. Logging: /tmp/graphlab_server_1513614111.log\n"
     ]
    }
   ],
   "source": [
    "sf = gl.SFrame(df)"
   ]
  },
  {
   "cell_type": "code",
   "execution_count": 40,
   "metadata": {},
   "outputs": [
    {
     "data": {
      "text/plain": [
       "141"
      ]
     },
     "execution_count": 40,
     "metadata": {},
     "output_type": "execute_result"
    }
   ],
   "source": [
    "len(df.joke_id.unique())\n"
   ]
  },
  {
   "cell_type": "code",
   "execution_count": 43,
   "metadata": {},
   "outputs": [
    {
     "data": {
      "text/html": [
       "<div>\n",
       "<table border=\"1\" class=\"dataframe\">\n",
       "  <thead>\n",
       "    <tr style=\"text-align: right;\">\n",
       "      <th></th>\n",
       "      <th>user_id</th>\n",
       "      <th>joke_id</th>\n",
       "      <th>rating</th>\n",
       "    </tr>\n",
       "  </thead>\n",
       "  <tbody>\n",
       "    <tr>\n",
       "      <th>0</th>\n",
       "      <td>34888</td>\n",
       "      <td>111</td>\n",
       "      <td>-9.71875</td>\n",
       "    </tr>\n",
       "    <tr>\n",
       "      <th>1</th>\n",
       "      <td>49651</td>\n",
       "      <td>119</td>\n",
       "      <td>4.75000</td>\n",
       "    </tr>\n",
       "    <tr>\n",
       "      <th>2</th>\n",
       "      <td>29027</td>\n",
       "      <td>137</td>\n",
       "      <td>2.62500</td>\n",
       "    </tr>\n",
       "    <tr>\n",
       "      <th>3</th>\n",
       "      <td>25235</td>\n",
       "      <td>30</td>\n",
       "      <td>-2.43750</td>\n",
       "    </tr>\n",
       "    <tr>\n",
       "      <th>4</th>\n",
       "      <td>50499</td>\n",
       "      <td>19</td>\n",
       "      <td>2.18750</td>\n",
       "    </tr>\n",
       "  </tbody>\n",
       "</table>\n",
       "</div>"
      ],
      "text/plain": [
       "   user_id  joke_id   rating\n",
       "0    34888      111 -9.71875\n",
       "1    49651      119  4.75000\n",
       "2    29027      137  2.62500\n",
       "3    25235       30 -2.43750\n",
       "4    50499       19  2.18750"
      ]
     },
     "execution_count": 43,
     "metadata": {},
     "output_type": "execute_result"
    }
   ],
   "source": [
    "unique = df.joke_id.unique()\n",
    "plt.bar()\n",
    "df.head()\n",
    "df.joke_id"
   ]
  },
  {
   "cell_type": "code",
   "execution_count": 11,
   "metadata": {},
   "outputs": [
    {
     "data": {
      "text/html": [
       "<div style=\"max-height:1000px;max-width:1500px;overflow:auto;\"><table frame=\"box\" rules=\"cols\">\n",
       "    <tr>\n",
       "        <th style=\"padding-left: 1em; padding-right: 1em; text-align: center\">user_id</th>\n",
       "        <th style=\"padding-left: 1em; padding-right: 1em; text-align: center\">joke_id</th>\n",
       "        <th style=\"padding-left: 1em; padding-right: 1em; text-align: center\">rating</th>\n",
       "    </tr>\n",
       "    <tr>\n",
       "        <td style=\"padding-left: 1em; padding-right: 1em; text-align: center; vertical-align: top\">34888</td>\n",
       "        <td style=\"padding-left: 1em; padding-right: 1em; text-align: center; vertical-align: top\">111</td>\n",
       "        <td style=\"padding-left: 1em; padding-right: 1em; text-align: center; vertical-align: top\">-9.71875</td>\n",
       "    </tr>\n",
       "    <tr>\n",
       "        <td style=\"padding-left: 1em; padding-right: 1em; text-align: center; vertical-align: top\">49651</td>\n",
       "        <td style=\"padding-left: 1em; padding-right: 1em; text-align: center; vertical-align: top\">119</td>\n",
       "        <td style=\"padding-left: 1em; padding-right: 1em; text-align: center; vertical-align: top\">4.75</td>\n",
       "    </tr>\n",
       "    <tr>\n",
       "        <td style=\"padding-left: 1em; padding-right: 1em; text-align: center; vertical-align: top\">29027</td>\n",
       "        <td style=\"padding-left: 1em; padding-right: 1em; text-align: center; vertical-align: top\">137</td>\n",
       "        <td style=\"padding-left: 1em; padding-right: 1em; text-align: center; vertical-align: top\">2.625</td>\n",
       "    </tr>\n",
       "    <tr>\n",
       "        <td style=\"padding-left: 1em; padding-right: 1em; text-align: center; vertical-align: top\">25235</td>\n",
       "        <td style=\"padding-left: 1em; padding-right: 1em; text-align: center; vertical-align: top\">30</td>\n",
       "        <td style=\"padding-left: 1em; padding-right: 1em; text-align: center; vertical-align: top\">-2.4375</td>\n",
       "    </tr>\n",
       "    <tr>\n",
       "        <td style=\"padding-left: 1em; padding-right: 1em; text-align: center; vertical-align: top\">50499</td>\n",
       "        <td style=\"padding-left: 1em; padding-right: 1em; text-align: center; vertical-align: top\">19</td>\n",
       "        <td style=\"padding-left: 1em; padding-right: 1em; text-align: center; vertical-align: top\">2.1875</td>\n",
       "    </tr>\n",
       "    <tr>\n",
       "        <td style=\"padding-left: 1em; padding-right: 1em; text-align: center; vertical-align: top\">7300</td>\n",
       "        <td style=\"padding-left: 1em; padding-right: 1em; text-align: center; vertical-align: top\">51</td>\n",
       "        <td style=\"padding-left: 1em; padding-right: 1em; text-align: center; vertical-align: top\">9.3125</td>\n",
       "    </tr>\n",
       "    <tr>\n",
       "        <td style=\"padding-left: 1em; padding-right: 1em; text-align: center; vertical-align: top\">30219</td>\n",
       "        <td style=\"padding-left: 1em; padding-right: 1em; text-align: center; vertical-align: top\">9</td>\n",
       "        <td style=\"padding-left: 1em; padding-right: 1em; text-align: center; vertical-align: top\">2.3125</td>\n",
       "    </tr>\n",
       "    <tr>\n",
       "        <td style=\"padding-left: 1em; padding-right: 1em; text-align: center; vertical-align: top\">29443</td>\n",
       "        <td style=\"padding-left: 1em; padding-right: 1em; text-align: center; vertical-align: top\">134</td>\n",
       "        <td style=\"padding-left: 1em; padding-right: 1em; text-align: center; vertical-align: top\">3.1875</td>\n",
       "    </tr>\n",
       "    <tr>\n",
       "        <td style=\"padding-left: 1em; padding-right: 1em; text-align: center; vertical-align: top\">27069</td>\n",
       "        <td style=\"padding-left: 1em; padding-right: 1em; text-align: center; vertical-align: top\">128</td>\n",
       "        <td style=\"padding-left: 1em; padding-right: 1em; text-align: center; vertical-align: top\">1.21875</td>\n",
       "    </tr>\n",
       "    <tr>\n",
       "        <td style=\"padding-left: 1em; padding-right: 1em; text-align: center; vertical-align: top\">24450</td>\n",
       "        <td style=\"padding-left: 1em; padding-right: 1em; text-align: center; vertical-align: top\">120</td>\n",
       "        <td style=\"padding-left: 1em; padding-right: 1em; text-align: center; vertical-align: top\">10.0</td>\n",
       "    </tr>\n",
       "</table>\n",
       "[1218325 rows x 3 columns]<br/>Note: Only the head of the SFrame is printed.<br/>You can use print_rows(num_rows=m, num_columns=n) to print more rows and columns.\n",
       "</div>"
      ],
      "text/plain": [
       "Columns:\n",
       "\tuser_id\tint\n",
       "\tjoke_id\tint\n",
       "\trating\tfloat\n",
       "\n",
       "Rows: 1218325\n",
       "\n",
       "Data:\n",
       "+---------+---------+----------+\n",
       "| user_id | joke_id |  rating  |\n",
       "+---------+---------+----------+\n",
       "|  34888  |   111   | -9.71875 |\n",
       "|  49651  |   119   |   4.75   |\n",
       "|  29027  |   137   |  2.625   |\n",
       "|  25235  |    30   | -2.4375  |\n",
       "|  50499  |    19   |  2.1875  |\n",
       "|   7300  |    51   |  9.3125  |\n",
       "|  30219  |    9    |  2.3125  |\n",
       "|  29443  |   134   |  3.1875  |\n",
       "|  27069  |   128   | 1.21875  |\n",
       "|  24450  |   120   |   10.0   |\n",
       "+---------+---------+----------+\n",
       "[1218325 rows x 3 columns]\n",
       "Note: Only the head of the SFrame is printed.\n",
       "You can use print_rows(num_rows=m, num_columns=n) to print more rows and columns."
      ]
     },
     "execution_count": 11,
     "metadata": {},
     "output_type": "execute_result"
    }
   ],
   "source": [
    "sf"
   ]
  },
  {
   "cell_type": "code",
   "execution_count": 12,
   "metadata": {},
   "outputs": [
    {
     "data": {
      "text/html": [
       "<pre>Recsys training: model = item_similarity</pre>"
      ],
      "text/plain": [
       "Recsys training: model = item_similarity"
      ]
     },
     "metadata": {},
     "output_type": "display_data"
    },
    {
     "data": {
      "text/html": [
       "<pre>Warning: Column 'rating' ignored.</pre>"
      ],
      "text/plain": [
       "Warning: Column 'rating' ignored."
      ]
     },
     "metadata": {},
     "output_type": "display_data"
    },
    {
     "data": {
      "text/html": [
       "<pre>    To use this column as the target, set target = \"rating\" and use a method that allows the use of a target.</pre>"
      ],
      "text/plain": [
       "    To use this column as the target, set target = \"rating\" and use a method that allows the use of a target."
      ]
     },
     "metadata": {},
     "output_type": "display_data"
    },
    {
     "data": {
      "text/html": [
       "<pre>Preparing data set.</pre>"
      ],
      "text/plain": [
       "Preparing data set."
      ]
     },
     "metadata": {},
     "output_type": "display_data"
    },
    {
     "data": {
      "text/html": [
       "<pre>    Data has 1218325 observations with 50692 users and 141 items.</pre>"
      ],
      "text/plain": [
       "    Data has 1218325 observations with 50692 users and 141 items."
      ]
     },
     "metadata": {},
     "output_type": "display_data"
    },
    {
     "data": {
      "text/html": [
       "<pre>    Data prepared in: 1.35486s</pre>"
      ],
      "text/plain": [
       "    Data prepared in: 1.35486s"
      ]
     },
     "metadata": {},
     "output_type": "display_data"
    },
    {
     "data": {
      "text/html": [
       "<pre>Training model from provided data.</pre>"
      ],
      "text/plain": [
       "Training model from provided data."
      ]
     },
     "metadata": {},
     "output_type": "display_data"
    },
    {
     "data": {
      "text/html": [
       "<pre>Gathering per-item and per-user statistics.</pre>"
      ],
      "text/plain": [
       "Gathering per-item and per-user statistics."
      ]
     },
     "metadata": {},
     "output_type": "display_data"
    },
    {
     "data": {
      "text/html": [
       "<pre>+--------------------------------+------------+</pre>"
      ],
      "text/plain": [
       "+--------------------------------+------------+"
      ]
     },
     "metadata": {},
     "output_type": "display_data"
    },
    {
     "data": {
      "text/html": [
       "<pre>| Elapsed Time (Item Statistics) | % Complete |</pre>"
      ],
      "text/plain": [
       "| Elapsed Time (Item Statistics) | % Complete |"
      ]
     },
     "metadata": {},
     "output_type": "display_data"
    },
    {
     "data": {
      "text/html": [
       "<pre>+--------------------------------+------------+</pre>"
      ],
      "text/plain": [
       "+--------------------------------+------------+"
      ]
     },
     "metadata": {},
     "output_type": "display_data"
    },
    {
     "data": {
      "text/html": [
       "<pre>| 44.565ms                       | 5.75       |</pre>"
      ],
      "text/plain": [
       "| 44.565ms                       | 5.75       |"
      ]
     },
     "metadata": {},
     "output_type": "display_data"
    },
    {
     "data": {
      "text/html": [
       "<pre>| 96.043ms                       | 100        |</pre>"
      ],
      "text/plain": [
       "| 96.043ms                       | 100        |"
      ]
     },
     "metadata": {},
     "output_type": "display_data"
    },
    {
     "data": {
      "text/html": [
       "<pre>+--------------------------------+------------+</pre>"
      ],
      "text/plain": [
       "+--------------------------------+------------+"
      ]
     },
     "metadata": {},
     "output_type": "display_data"
    },
    {
     "data": {
      "text/html": [
       "<pre>Setting up lookup tables.</pre>"
      ],
      "text/plain": [
       "Setting up lookup tables."
      ]
     },
     "metadata": {},
     "output_type": "display_data"
    },
    {
     "data": {
      "text/html": [
       "<pre>Processing data in one pass using dense lookup tables.</pre>"
      ],
      "text/plain": [
       "Processing data in one pass using dense lookup tables."
      ]
     },
     "metadata": {},
     "output_type": "display_data"
    },
    {
     "data": {
      "text/html": [
       "<pre>+-------------------------------------+------------------+-----------------+</pre>"
      ],
      "text/plain": [
       "+-------------------------------------+------------------+-----------------+"
      ]
     },
     "metadata": {},
     "output_type": "display_data"
    },
    {
     "data": {
      "text/html": [
       "<pre>| Elapsed Time (Constructing Lookups) | Total % Complete | Items Processed |</pre>"
      ],
      "text/plain": [
       "| Elapsed Time (Constructing Lookups) | Total % Complete | Items Processed |"
      ]
     },
     "metadata": {},
     "output_type": "display_data"
    },
    {
     "data": {
      "text/html": [
       "<pre>+-------------------------------------+------------------+-----------------+</pre>"
      ],
      "text/plain": [
       "+-------------------------------------+------------------+-----------------+"
      ]
     },
     "metadata": {},
     "output_type": "display_data"
    },
    {
     "data": {
      "text/html": [
       "<pre>| 109.221ms                           | 0                | 0               |</pre>"
      ],
      "text/plain": [
       "| 109.221ms                           | 0                | 0               |"
      ]
     },
     "metadata": {},
     "output_type": "display_data"
    },
    {
     "data": {
      "text/html": [
       "<pre>| 323.37ms                            | 100              | 141             |</pre>"
      ],
      "text/plain": [
       "| 323.37ms                            | 100              | 141             |"
      ]
     },
     "metadata": {},
     "output_type": "display_data"
    },
    {
     "data": {
      "text/html": [
       "<pre>+-------------------------------------+------------------+-----------------+</pre>"
      ],
      "text/plain": [
       "+-------------------------------------+------------------+-----------------+"
      ]
     },
     "metadata": {},
     "output_type": "display_data"
    },
    {
     "data": {
      "text/html": [
       "<pre>Finalizing lookup tables.</pre>"
      ],
      "text/plain": [
       "Finalizing lookup tables."
      ]
     },
     "metadata": {},
     "output_type": "display_data"
    },
    {
     "data": {
      "text/html": [
       "<pre>Generating candidate set for working with new users.</pre>"
      ],
      "text/plain": [
       "Generating candidate set for working with new users."
      ]
     },
     "metadata": {},
     "output_type": "display_data"
    },
    {
     "data": {
      "text/html": [
       "<pre>Finished training in 1.45584s</pre>"
      ],
      "text/plain": [
       "Finished training in 1.45584s"
      ]
     },
     "metadata": {},
     "output_type": "display_data"
    },
    {
     "data": {
      "text/html": [
       "<pre>recommendations finished on 1000/50692 queries. users per second: 89110.7</pre>"
      ],
      "text/plain": [
       "recommendations finished on 1000/50692 queries. users per second: 89110.7"
      ]
     },
     "metadata": {},
     "output_type": "display_data"
    },
    {
     "data": {
      "text/html": [
       "<pre>recommendations finished on 2000/50692 queries. users per second: 86854.6</pre>"
      ],
      "text/plain": [
       "recommendations finished on 2000/50692 queries. users per second: 86854.6"
      ]
     },
     "metadata": {},
     "output_type": "display_data"
    },
    {
     "data": {
      "text/html": [
       "<pre>recommendations finished on 3000/50692 queries. users per second: 70377.9</pre>"
      ],
      "text/plain": [
       "recommendations finished on 3000/50692 queries. users per second: 70377.9"
      ]
     },
     "metadata": {},
     "output_type": "display_data"
    },
    {
     "data": {
      "text/html": [
       "<pre>recommendations finished on 4000/50692 queries. users per second: 67544.7</pre>"
      ],
      "text/plain": [
       "recommendations finished on 4000/50692 queries. users per second: 67544.7"
      ]
     },
     "metadata": {},
     "output_type": "display_data"
    },
    {
     "data": {
      "text/html": [
       "<pre>recommendations finished on 5000/50692 queries. users per second: 67003.5</pre>"
      ],
      "text/plain": [
       "recommendations finished on 5000/50692 queries. users per second: 67003.5"
      ]
     },
     "metadata": {},
     "output_type": "display_data"
    },
    {
     "data": {
      "text/html": [
       "<pre>recommendations finished on 6000/50692 queries. users per second: 63525.7</pre>"
      ],
      "text/plain": [
       "recommendations finished on 6000/50692 queries. users per second: 63525.7"
      ]
     },
     "metadata": {},
     "output_type": "display_data"
    },
    {
     "data": {
      "text/html": [
       "<pre>recommendations finished on 7000/50692 queries. users per second: 62324.2</pre>"
      ],
      "text/plain": [
       "recommendations finished on 7000/50692 queries. users per second: 62324.2"
      ]
     },
     "metadata": {},
     "output_type": "display_data"
    },
    {
     "data": {
      "text/html": [
       "<pre>recommendations finished on 8000/50692 queries. users per second: 62193.4</pre>"
      ],
      "text/plain": [
       "recommendations finished on 8000/50692 queries. users per second: 62193.4"
      ]
     },
     "metadata": {},
     "output_type": "display_data"
    },
    {
     "data": {
      "text/html": [
       "<pre>recommendations finished on 9000/50692 queries. users per second: 61253.2</pre>"
      ],
      "text/plain": [
       "recommendations finished on 9000/50692 queries. users per second: 61253.2"
      ]
     },
     "metadata": {},
     "output_type": "display_data"
    },
    {
     "data": {
      "text/html": [
       "<pre>recommendations finished on 10000/50692 queries. users per second: 58155.8</pre>"
      ],
      "text/plain": [
       "recommendations finished on 10000/50692 queries. users per second: 58155.8"
      ]
     },
     "metadata": {},
     "output_type": "display_data"
    },
    {
     "data": {
      "text/html": [
       "<pre>recommendations finished on 11000/50692 queries. users per second: 58756.9</pre>"
      ],
      "text/plain": [
       "recommendations finished on 11000/50692 queries. users per second: 58756.9"
      ]
     },
     "metadata": {},
     "output_type": "display_data"
    },
    {
     "data": {
      "text/html": [
       "<pre>recommendations finished on 12000/50692 queries. users per second: 58619.8</pre>"
      ],
      "text/plain": [
       "recommendations finished on 12000/50692 queries. users per second: 58619.8"
      ]
     },
     "metadata": {},
     "output_type": "display_data"
    },
    {
     "data": {
      "text/html": [
       "<pre>recommendations finished on 13000/50692 queries. users per second: 54630.1</pre>"
      ],
      "text/plain": [
       "recommendations finished on 13000/50692 queries. users per second: 54630.1"
      ]
     },
     "metadata": {},
     "output_type": "display_data"
    },
    {
     "data": {
      "text/html": [
       "<pre>recommendations finished on 14000/50692 queries. users per second: 53602.9</pre>"
      ],
      "text/plain": [
       "recommendations finished on 14000/50692 queries. users per second: 53602.9"
      ]
     },
     "metadata": {},
     "output_type": "display_data"
    },
    {
     "data": {
      "text/html": [
       "<pre>recommendations finished on 15000/50692 queries. users per second: 54579.4</pre>"
      ],
      "text/plain": [
       "recommendations finished on 15000/50692 queries. users per second: 54579.4"
      ]
     },
     "metadata": {},
     "output_type": "display_data"
    },
    {
     "data": {
      "text/html": [
       "<pre>recommendations finished on 16000/50692 queries. users per second: 54756.8</pre>"
      ],
      "text/plain": [
       "recommendations finished on 16000/50692 queries. users per second: 54756.8"
      ]
     },
     "metadata": {},
     "output_type": "display_data"
    },
    {
     "data": {
      "text/html": [
       "<pre>recommendations finished on 17000/50692 queries. users per second: 54821.4</pre>"
      ],
      "text/plain": [
       "recommendations finished on 17000/50692 queries. users per second: 54821.4"
      ]
     },
     "metadata": {},
     "output_type": "display_data"
    },
    {
     "data": {
      "text/html": [
       "<pre>recommendations finished on 18000/50692 queries. users per second: 55393</pre>"
      ],
      "text/plain": [
       "recommendations finished on 18000/50692 queries. users per second: 55393"
      ]
     },
     "metadata": {},
     "output_type": "display_data"
    },
    {
     "data": {
      "text/html": [
       "<pre>recommendations finished on 19000/50692 queries. users per second: 55912.1</pre>"
      ],
      "text/plain": [
       "recommendations finished on 19000/50692 queries. users per second: 55912.1"
      ]
     },
     "metadata": {},
     "output_type": "display_data"
    },
    {
     "data": {
      "text/html": [
       "<pre>recommendations finished on 20000/50692 queries. users per second: 55888.1</pre>"
      ],
      "text/plain": [
       "recommendations finished on 20000/50692 queries. users per second: 55888.1"
      ]
     },
     "metadata": {},
     "output_type": "display_data"
    },
    {
     "data": {
      "text/html": [
       "<pre>recommendations finished on 21000/50692 queries. users per second: 55700.7</pre>"
      ],
      "text/plain": [
       "recommendations finished on 21000/50692 queries. users per second: 55700.7"
      ]
     },
     "metadata": {},
     "output_type": "display_data"
    },
    {
     "data": {
      "text/html": [
       "<pre>recommendations finished on 22000/50692 queries. users per second: 54722.1</pre>"
      ],
      "text/plain": [
       "recommendations finished on 22000/50692 queries. users per second: 54722.1"
      ]
     },
     "metadata": {},
     "output_type": "display_data"
    },
    {
     "data": {
      "text/html": [
       "<pre>recommendations finished on 23000/50692 queries. users per second: 55654.8</pre>"
      ],
      "text/plain": [
       "recommendations finished on 23000/50692 queries. users per second: 55654.8"
      ]
     },
     "metadata": {},
     "output_type": "display_data"
    },
    {
     "data": {
      "text/html": [
       "<pre>recommendations finished on 24000/50692 queries. users per second: 55994.3</pre>"
      ],
      "text/plain": [
       "recommendations finished on 24000/50692 queries. users per second: 55994.3"
      ]
     },
     "metadata": {},
     "output_type": "display_data"
    },
    {
     "data": {
      "text/html": [
       "<pre>recommendations finished on 25000/50692 queries. users per second: 56992.7</pre>"
      ],
      "text/plain": [
       "recommendations finished on 25000/50692 queries. users per second: 56992.7"
      ]
     },
     "metadata": {},
     "output_type": "display_data"
    },
    {
     "data": {
      "text/html": [
       "<pre>recommendations finished on 26000/50692 queries. users per second: 56565.5</pre>"
      ],
      "text/plain": [
       "recommendations finished on 26000/50692 queries. users per second: 56565.5"
      ]
     },
     "metadata": {},
     "output_type": "display_data"
    },
    {
     "data": {
      "text/html": [
       "<pre>recommendations finished on 27000/50692 queries. users per second: 56734</pre>"
      ],
      "text/plain": [
       "recommendations finished on 27000/50692 queries. users per second: 56734"
      ]
     },
     "metadata": {},
     "output_type": "display_data"
    },
    {
     "data": {
      "text/html": [
       "<pre>recommendations finished on 28000/50692 queries. users per second: 56936.8</pre>"
      ],
      "text/plain": [
       "recommendations finished on 28000/50692 queries. users per second: 56936.8"
      ]
     },
     "metadata": {},
     "output_type": "display_data"
    },
    {
     "data": {
      "text/html": [
       "<pre>recommendations finished on 29000/50692 queries. users per second: 56934.4</pre>"
      ],
      "text/plain": [
       "recommendations finished on 29000/50692 queries. users per second: 56934.4"
      ]
     },
     "metadata": {},
     "output_type": "display_data"
    },
    {
     "data": {
      "text/html": [
       "<pre>recommendations finished on 30000/50692 queries. users per second: 56981.5</pre>"
      ],
      "text/plain": [
       "recommendations finished on 30000/50692 queries. users per second: 56981.5"
      ]
     },
     "metadata": {},
     "output_type": "display_data"
    },
    {
     "data": {
      "text/html": [
       "<pre>recommendations finished on 31000/50692 queries. users per second: 57454.4</pre>"
      ],
      "text/plain": [
       "recommendations finished on 31000/50692 queries. users per second: 57454.4"
      ]
     },
     "metadata": {},
     "output_type": "display_data"
    },
    {
     "data": {
      "text/html": [
       "<pre>recommendations finished on 32000/50692 queries. users per second: 57754.3</pre>"
      ],
      "text/plain": [
       "recommendations finished on 32000/50692 queries. users per second: 57754.3"
      ]
     },
     "metadata": {},
     "output_type": "display_data"
    },
    {
     "data": {
      "text/html": [
       "<pre>recommendations finished on 33000/50692 queries. users per second: 57789.7</pre>"
      ],
      "text/plain": [
       "recommendations finished on 33000/50692 queries. users per second: 57789.7"
      ]
     },
     "metadata": {},
     "output_type": "display_data"
    },
    {
     "data": {
      "text/html": [
       "<pre>recommendations finished on 34000/50692 queries. users per second: 58269.7</pre>"
      ],
      "text/plain": [
       "recommendations finished on 34000/50692 queries. users per second: 58269.7"
      ]
     },
     "metadata": {},
     "output_type": "display_data"
    },
    {
     "data": {
      "text/html": [
       "<pre>recommendations finished on 35000/50692 queries. users per second: 58717.2</pre>"
      ],
      "text/plain": [
       "recommendations finished on 35000/50692 queries. users per second: 58717.2"
      ]
     },
     "metadata": {},
     "output_type": "display_data"
    },
    {
     "data": {
      "text/html": [
       "<pre>recommendations finished on 36000/50692 queries. users per second: 57946.3</pre>"
      ],
      "text/plain": [
       "recommendations finished on 36000/50692 queries. users per second: 57946.3"
      ]
     },
     "metadata": {},
     "output_type": "display_data"
    },
    {
     "data": {
      "text/html": [
       "<pre>recommendations finished on 37000/50692 queries. users per second: 58187.8</pre>"
      ],
      "text/plain": [
       "recommendations finished on 37000/50692 queries. users per second: 58187.8"
      ]
     },
     "metadata": {},
     "output_type": "display_data"
    },
    {
     "data": {
      "text/html": [
       "<pre>recommendations finished on 38000/50692 queries. users per second: 58493.5</pre>"
      ],
      "text/plain": [
       "recommendations finished on 38000/50692 queries. users per second: 58493.5"
      ]
     },
     "metadata": {},
     "output_type": "display_data"
    },
    {
     "data": {
      "text/html": [
       "<pre>recommendations finished on 39000/50692 queries. users per second: 58450.1</pre>"
      ],
      "text/plain": [
       "recommendations finished on 39000/50692 queries. users per second: 58450.1"
      ]
     },
     "metadata": {},
     "output_type": "display_data"
    },
    {
     "data": {
      "text/html": [
       "<pre>recommendations finished on 40000/50692 queries. users per second: 58724</pre>"
      ],
      "text/plain": [
       "recommendations finished on 40000/50692 queries. users per second: 58724"
      ]
     },
     "metadata": {},
     "output_type": "display_data"
    },
    {
     "data": {
      "text/html": [
       "<pre>recommendations finished on 41000/50692 queries. users per second: 58762.4</pre>"
      ],
      "text/plain": [
       "recommendations finished on 41000/50692 queries. users per second: 58762.4"
      ]
     },
     "metadata": {},
     "output_type": "display_data"
    },
    {
     "data": {
      "text/html": [
       "<pre>recommendations finished on 42000/50692 queries. users per second: 58141.4</pre>"
      ],
      "text/plain": [
       "recommendations finished on 42000/50692 queries. users per second: 58141.4"
      ]
     },
     "metadata": {},
     "output_type": "display_data"
    },
    {
     "data": {
      "text/html": [
       "<pre>recommendations finished on 43000/50692 queries. users per second: 58042.7</pre>"
      ],
      "text/plain": [
       "recommendations finished on 43000/50692 queries. users per second: 58042.7"
      ]
     },
     "metadata": {},
     "output_type": "display_data"
    },
    {
     "data": {
      "text/html": [
       "<pre>recommendations finished on 44000/50692 queries. users per second: 57672.9</pre>"
      ],
      "text/plain": [
       "recommendations finished on 44000/50692 queries. users per second: 57672.9"
      ]
     },
     "metadata": {},
     "output_type": "display_data"
    },
    {
     "data": {
      "text/html": [
       "<pre>recommendations finished on 45000/50692 queries. users per second: 57304.4</pre>"
      ],
      "text/plain": [
       "recommendations finished on 45000/50692 queries. users per second: 57304.4"
      ]
     },
     "metadata": {},
     "output_type": "display_data"
    },
    {
     "data": {
      "text/html": [
       "<pre>recommendations finished on 46000/50692 queries. users per second: 56992.7</pre>"
      ],
      "text/plain": [
       "recommendations finished on 46000/50692 queries. users per second: 56992.7"
      ]
     },
     "metadata": {},
     "output_type": "display_data"
    },
    {
     "data": {
      "text/html": [
       "<pre>recommendations finished on 47000/50692 queries. users per second: 56975.2</pre>"
      ],
      "text/plain": [
       "recommendations finished on 47000/50692 queries. users per second: 56975.2"
      ]
     },
     "metadata": {},
     "output_type": "display_data"
    },
    {
     "data": {
      "text/html": [
       "<pre>recommendations finished on 48000/50692 queries. users per second: 55542.8</pre>"
      ],
      "text/plain": [
       "recommendations finished on 48000/50692 queries. users per second: 55542.8"
      ]
     },
     "metadata": {},
     "output_type": "display_data"
    },
    {
     "data": {
      "text/html": [
       "<pre>recommendations finished on 49000/50692 queries. users per second: 54072.9</pre>"
      ],
      "text/plain": [
       "recommendations finished on 49000/50692 queries. users per second: 54072.9"
      ]
     },
     "metadata": {},
     "output_type": "display_data"
    },
    {
     "data": {
      "text/html": [
       "<pre>recommendations finished on 50000/50692 queries. users per second: 53025.4</pre>"
      ],
      "text/plain": [
       "recommendations finished on 50000/50692 queries. users per second: 53025.4"
      ]
     },
     "metadata": {},
     "output_type": "display_data"
    }
   ],
   "source": [
    "m = gl.recommender.create(sf, user_id='user_id', item_id='joke_id') "
   ]
  },
  {
   "cell_type": "code",
   "execution_count": 19,
   "metadata": {},
   "outputs": [
    {
     "data": {
      "image/png": "[encoded data removed]",
      "text/plain": [
       "<matplotlib.figure.Figure at 0x1a1212f3c8>"
      ]
     },
     "metadata": {},
     "output_type": "display_data"
    }
   ],
   "source": [
    "df['rating'].hist(bins=20)\n",
    "plt.title('Ratings Distributions')\n",
    "plt.xlabel('Ratings')\n",
    "plt.ylabel('Joke Counts')\n",
    "plt.savefig(\"images/ratings.png\")\n",
    "plt.show()\n"
   ]
  },
  {
   "cell_type": "code",
   "execution_count": 20,
   "metadata": {},
   "outputs": [
    {
     "data": {
      "text/html": [
       "<div>\n",
       "<table border=\"1\" class=\"dataframe\">\n",
       "  <thead>\n",
       "    <tr style=\"text-align: right;\">\n",
       "      <th></th>\n",
       "      <th>user_id</th>\n",
       "      <th>joke_id</th>\n",
       "      <th>rating</th>\n",
       "    </tr>\n",
       "  </thead>\n",
       "  <tbody>\n",
       "    <tr>\n",
       "      <th>502831</th>\n",
       "      <td>14010</td>\n",
       "      <td>98</td>\n",
       "      <td>10.0</td>\n",
       "    </tr>\n",
       "    <tr>\n",
       "      <th>84861</th>\n",
       "      <td>48155</td>\n",
       "      <td>128</td>\n",
       "      <td>10.0</td>\n",
       "    </tr>\n",
       "    <tr>\n",
       "      <th>408354</th>\n",
       "      <td>24510</td>\n",
       "      <td>33</td>\n",
       "      <td>10.0</td>\n",
       "    </tr>\n",
       "    <tr>\n",
       "      <th>26101</th>\n",
       "      <td>5243</td>\n",
       "      <td>57</td>\n",
       "      <td>10.0</td>\n",
       "    </tr>\n",
       "    <tr>\n",
       "      <th>1169287</th>\n",
       "      <td>15005</td>\n",
       "      <td>139</td>\n",
       "      <td>10.0</td>\n",
       "    </tr>\n",
       "    <tr>\n",
       "      <th>725317</th>\n",
       "      <td>10349</td>\n",
       "      <td>51</td>\n",
       "      <td>10.0</td>\n",
       "    </tr>\n",
       "    <tr>\n",
       "      <th>725329</th>\n",
       "      <td>45066</td>\n",
       "      <td>66</td>\n",
       "      <td>10.0</td>\n",
       "    </tr>\n",
       "    <tr>\n",
       "      <th>790551</th>\n",
       "      <td>29458</td>\n",
       "      <td>1</td>\n",
       "      <td>10.0</td>\n",
       "    </tr>\n",
       "    <tr>\n",
       "      <th>871788</th>\n",
       "      <td>2082</td>\n",
       "      <td>128</td>\n",
       "      <td>10.0</td>\n",
       "    </tr>\n",
       "    <tr>\n",
       "      <th>811093</th>\n",
       "      <td>5243</td>\n",
       "      <td>115</td>\n",
       "      <td>10.0</td>\n",
       "    </tr>\n",
       "  </tbody>\n",
       "</table>\n",
       "</div>"
      ],
      "text/plain": [
       "         user_id  joke_id  rating\n",
       "502831     14010       98    10.0\n",
       "84861      48155      128    10.0\n",
       "408354     24510       33    10.0\n",
       "26101       5243       57    10.0\n",
       "1169287    15005      139    10.0\n",
       "725317     10349       51    10.0\n",
       "725329     45066       66    10.0\n",
       "790551     29458        1    10.0\n",
       "871788      2082      128    10.0\n",
       "811093      5243      115    10.0"
      ]
     },
     "execution_count": 20,
     "metadata": {},
     "output_type": "execute_result"
    }
   ],
   "source": [
    "sort= df.sort_values('rating', ascending=False)\n",
    "sort.head(10)"
   ]
  },
  {
   "cell_type": "code",
   "execution_count": 22,
   "metadata": {},
   "outputs": [
    {
     "name": "stdout",
     "output_type": "stream",
     "text": [
      "1218325\n",
      "            user_id       joke_id        rating\n",
      "count  1.218325e+06  1.218325e+06  1.218325e+06\n",
      "mean   2.590915e+04  7.232423e+01  1.700198e+00\n",
      "std    1.481709e+04  4.591434e+01  5.285761e+00\n",
      "min    1.000000e+00  1.000000e+00 -1.000000e+01\n",
      "25%    1.271400e+04  2.300000e+01 -1.906250e+00\n",
      "50%    2.740300e+04  7.000000e+01  2.312500e+00\n",
      "75%    3.837600e+04  1.140000e+02  5.812500e+00\n",
      "max    5.069200e+04  1.510000e+02  1.000000e+01\n"
     ]
    }
   ],
   "source": [
    "print len(sort)\n",
    "print sort.describe()"
   ]
  },
  {
   "cell_type": "code",
   "execution_count": 25,
   "metadata": {},
   "outputs": [
    {
     "data": {
      "text/plain": [
       "60916"
      ]
     },
     "execution_count": 25,
     "metadata": {},
     "output_type": "execute_result"
    }
   ],
   "source": [
    "top_five= sort['rating'][:int((.05 * len(sort))) ]\n",
    "len(top_five)"
   ]
  },
  {
   "cell_type": "code",
   "execution_count": 29,
   "metadata": {},
   "outputs": [
    {
     "data": {
      "image/png": "[encoded data removed]",
      "text/plain": [
       "<matplotlib.figure.Figure at 0x116634490>"
      ]
     },
     "metadata": {},
     "output_type": "display_data"
    }
   ],
   "source": [
    "top_five.hist(bins=8)\n",
    "plt.title('Ratings of Top Five Distributions')\n",
    "plt.show()"
   ]
  },
  {
   "cell_type": "code",
   "execution_count": 49,
   "metadata": {},
   "outputs": [
    {
     "data": {
      "text/html": [
       "<pre>Recsys training: model = item_similarity</pre>"
      ],
      "text/plain": [
       "Recsys training: model = item_similarity"
      ]
     },
     "metadata": {},
     "output_type": "display_data"
    },
    {
     "data": {
      "text/html": [
       "<pre>Warning: Column 'rating' ignored.</pre>"
      ],
      "text/plain": [
       "Warning: Column 'rating' ignored."
      ]
     },
     "metadata": {},
     "output_type": "display_data"
    },
    {
     "data": {
      "text/html": [
       "<pre>    To use this column as the target, set target = \"rating\" and use a method that allows the use of a target.</pre>"
      ],
      "text/plain": [
       "    To use this column as the target, set target = \"rating\" and use a method that allows the use of a target."
      ]
     },
     "metadata": {},
     "output_type": "display_data"
    },
    {
     "data": {
      "text/html": [
       "<pre>Preparing data set.</pre>"
      ],
      "text/plain": [
       "Preparing data set."
      ]
     },
     "metadata": {},
     "output_type": "display_data"
    },
    {
     "data": {
      "text/html": [
       "<pre>    Data has 1218325 observations with 50692 users and 141 items.</pre>"
      ],
      "text/plain": [
       "    Data has 1218325 observations with 50692 users and 141 items."
      ]
     },
     "metadata": {},
     "output_type": "display_data"
    },
    {
     "data": {
      "text/html": [
       "<pre>    Data prepared in: 1.29041s</pre>"
      ],
      "text/plain": [
       "    Data prepared in: 1.29041s"
      ]
     },
     "metadata": {},
     "output_type": "display_data"
    },
    {
     "data": {
      "text/html": [
       "<pre>Training model from provided data.</pre>"
      ],
      "text/plain": [
       "Training model from provided data."
      ]
     },
     "metadata": {},
     "output_type": "display_data"
    },
    {
     "data": {
      "text/html": [
       "<pre>Gathering per-item and per-user statistics.</pre>"
      ],
      "text/plain": [
       "Gathering per-item and per-user statistics."
      ]
     },
     "metadata": {},
     "output_type": "display_data"
    },
    {
     "data": {
      "text/html": [
       "<pre>+--------------------------------+------------+</pre>"
      ],
      "text/plain": [
       "+--------------------------------+------------+"
      ]
     },
     "metadata": {},
     "output_type": "display_data"
    },
    {
     "data": {
      "text/html": [
       "<pre>| Elapsed Time (Item Statistics) | % Complete |</pre>"
      ],
      "text/plain": [
       "| Elapsed Time (Item Statistics) | % Complete |"
      ]
     },
     "metadata": {},
     "output_type": "display_data"
    },
    {
     "data": {
      "text/html": [
       "<pre>+--------------------------------+------------+</pre>"
      ],
      "text/plain": [
       "+--------------------------------+------------+"
      ]
     },
     "metadata": {},
     "output_type": "display_data"
    },
    {
     "data": {
      "text/html": [
       "<pre>| 2.652ms                        | 3.75       |</pre>"
      ],
      "text/plain": [
       "| 2.652ms                        | 3.75       |"
      ]
     },
     "metadata": {},
     "output_type": "display_data"
    },
    {
     "data": {
      "text/html": [
       "<pre>| 80.477ms                       | 100        |</pre>"
      ],
      "text/plain": [
       "| 80.477ms                       | 100        |"
      ]
     },
     "metadata": {},
     "output_type": "display_data"
    },
    {
     "data": {
      "text/html": [
       "<pre>+--------------------------------+------------+</pre>"
      ],
      "text/plain": [
       "+--------------------------------+------------+"
      ]
     },
     "metadata": {},
     "output_type": "display_data"
    },
    {
     "data": {
      "text/html": [
       "<pre>Setting up lookup tables.</pre>"
      ],
      "text/plain": [
       "Setting up lookup tables."
      ]
     },
     "metadata": {},
     "output_type": "display_data"
    },
    {
     "data": {
      "text/html": [
       "<pre>Processing data in one pass using dense lookup tables.</pre>"
      ],
      "text/plain": [
       "Processing data in one pass using dense lookup tables."
      ]
     },
     "metadata": {},
     "output_type": "display_data"
    },
    {
     "data": {
      "text/html": [
       "<pre>+-------------------------------------+------------------+-----------------+</pre>"
      ],
      "text/plain": [
       "+-------------------------------------+------------------+-----------------+"
      ]
     },
     "metadata": {},
     "output_type": "display_data"
    },
    {
     "data": {
      "text/html": [
       "<pre>| Elapsed Time (Constructing Lookups) | Total % Complete | Items Processed |</pre>"
      ],
      "text/plain": [
       "| Elapsed Time (Constructing Lookups) | Total % Complete | Items Processed |"
      ]
     },
     "metadata": {},
     "output_type": "display_data"
    },
    {
     "data": {
      "text/html": [
       "<pre>+-------------------------------------+------------------+-----------------+</pre>"
      ],
      "text/plain": [
       "+-------------------------------------+------------------+-----------------+"
      ]
     },
     "metadata": {},
     "output_type": "display_data"
    },
    {
     "data": {
      "text/html": [
       "<pre>| 85.169ms                            | 0                | 0               |</pre>"
      ],
      "text/plain": [
       "| 85.169ms                            | 0                | 0               |"
      ]
     },
     "metadata": {},
     "output_type": "display_data"
    },
    {
     "data": {
      "text/html": [
       "<pre>| 318.622ms                           | 100              | 141             |</pre>"
      ],
      "text/plain": [
       "| 318.622ms                           | 100              | 141             |"
      ]
     },
     "metadata": {},
     "output_type": "display_data"
    },
    {
     "data": {
      "text/html": [
       "<pre>+-------------------------------------+------------------+-----------------+</pre>"
      ],
      "text/plain": [
       "+-------------------------------------+------------------+-----------------+"
      ]
     },
     "metadata": {},
     "output_type": "display_data"
    },
    {
     "data": {
      "text/html": [
       "<pre>Finalizing lookup tables.</pre>"
      ],
      "text/plain": [
       "Finalizing lookup tables."
      ]
     },
     "metadata": {},
     "output_type": "display_data"
    },
    {
     "data": {
      "text/html": [
       "<pre>Generating candidate set for working with new users.</pre>"
      ],
      "text/plain": [
       "Generating candidate set for working with new users."
      ]
     },
     "metadata": {},
     "output_type": "display_data"
    },
    {
     "data": {
      "text/html": [
       "<pre>Finished training in 0.441143s</pre>"
      ],
      "text/plain": [
       "Finished training in 0.441143s"
      ]
     },
     "metadata": {},
     "output_type": "display_data"
    }
   ],
   "source": [
    "item_sim_rec = gl.recommender.item_similarity_recommender.create(sf, user_id='user_id', item_id='joke_id')"
   ]
  },
  {
   "cell_type": "code",
   "execution_count": 46,
   "metadata": {},
   "outputs": [
    {
     "data": {
      "text/plain": [
       "<module 'graphlab.toolkits.recommender.item_similarity_recommender' from '/Users/gstudent/anaconda2/lib/python2.7/site-packages/graphlab/toolkits/recommender/item_similarity_recommender.pyc'>"
      ]
     },
     "execution_count": 46,
     "metadata": {},
     "output_type": "execute_result"
    }
   ],
   "source": [
    "item_sim_rec"
   ]
  },
  {
   "cell_type": "code",
   "execution_count": 59,
   "metadata": {
    "collapsed": true
   },
   "outputs": [],
   "source": [
    "df_test = pd.read_csv('data/sample_submission.csv')"
   ]
  },
  {
   "cell_type": "code",
   "execution_count": 58,
   "metadata": {},
   "outputs": [
    {
     "data": {
      "text/html": [
       "<div>\n",
       "<table border=\"1\" class=\"dataframe\">\n",
       "  <thead>\n",
       "    <tr style=\"text-align: right;\">\n",
       "      <th></th>\n",
       "      <th>user_id</th>\n",
       "      <th>joke_id</th>\n",
       "      <th>rating</th>\n",
       "    </tr>\n",
       "  </thead>\n",
       "  <tbody>\n",
       "    <tr>\n",
       "      <th>count</th>\n",
       "      <td>522169.000000</td>\n",
       "      <td>522169.000000</td>\n",
       "      <td>522169.000000</td>\n",
       "    </tr>\n",
       "    <tr>\n",
       "      <th>mean</th>\n",
       "      <td>25904.071946</td>\n",
       "      <td>72.387761</td>\n",
       "      <td>1.709213</td>\n",
       "    </tr>\n",
       "    <tr>\n",
       "      <th>std</th>\n",
       "      <td>14815.778610</td>\n",
       "      <td>45.953109</td>\n",
       "      <td>5.274949</td>\n",
       "    </tr>\n",
       "    <tr>\n",
       "      <th>min</th>\n",
       "      <td>1.000000</td>\n",
       "      <td>1.000000</td>\n",
       "      <td>-10.000000</td>\n",
       "    </tr>\n",
       "    <tr>\n",
       "      <th>25%</th>\n",
       "      <td>12714.000000</td>\n",
       "      <td>23.000000</td>\n",
       "      <td>-1.875000</td>\n",
       "    </tr>\n",
       "    <tr>\n",
       "      <th>50%</th>\n",
       "      <td>27395.000000</td>\n",
       "      <td>70.000000</td>\n",
       "      <td>2.312500</td>\n",
       "    </tr>\n",
       "    <tr>\n",
       "      <th>75%</th>\n",
       "      <td>38376.000000</td>\n",
       "      <td>114.000000</td>\n",
       "      <td>5.812500</td>\n",
       "    </tr>\n",
       "    <tr>\n",
       "      <th>max</th>\n",
       "      <td>50692.000000</td>\n",
       "      <td>151.000000</td>\n",
       "      <td>10.000000</td>\n",
       "    </tr>\n",
       "  </tbody>\n",
       "</table>\n",
       "</div>"
      ],
      "text/plain": [
       "             user_id        joke_id         rating\n",
       "count  522169.000000  522169.000000  522169.000000\n",
       "mean    25904.071946      72.387761       1.709213\n",
       "std     14815.778610      45.953109       5.274949\n",
       "min         1.000000       1.000000     -10.000000\n",
       "25%     12714.000000      23.000000      -1.875000\n",
       "50%     27395.000000      70.000000       2.312500\n",
       "75%     38376.000000     114.000000       5.812500\n",
       "max     50692.000000     151.000000      10.000000"
      ]
     },
     "execution_count": 58,
     "metadata": {},
     "output_type": "execute_result"
    }
   ],
   "source": [
    "df_test.describe()"
   ]
  },
  {
   "cell_type": "code",
   "execution_count": 81,
   "metadata": {},
   "outputs": [
    {
     "data": {
      "text/plain": [
       "array([ 0.0005,  0.001 ,  0.0015,  0.002 ,  0.0025,  0.003 ,  0.0035,\n",
       "        0.004 ,  0.0045,  0.005 ,  0.0055,  0.006 ,  0.0065,  0.007 ,\n",
       "        0.0075,  0.008 ,  0.0085,  0.009 ,  0.0095,  0.01  ])"
      ]
     },
     "execution_count": 81,
     "metadata": {},
     "output_type": "execute_result"
    }
   ],
   "source": [
    "np.linspace(0.0005,.01,num=20)"
   ]
  },
  {
   "cell_type": "code",
   "execution_count": 75,
   "metadata": {},
   "outputs": [
    {
     "name": "stdout",
     "output_type": "stream",
     "text": [
      "64.0\n",
      "66.0\n",
      "68.0\n",
      "70.0\n",
      "72.0\n",
      "74.0\n",
      "76.0\n",
      "78.0\n",
      "80.0\n",
      "82.0\n",
      "84.0\n",
      "86.0\n",
      "88.0\n",
      "90.0\n",
      "92.0\n",
      "94.0\n",
      "96.0\n"
     ]
    }
   ],
   "source": [
    "for a in np.linspace(64,96,num=17):\n",
    "    print(a)"
   ]
  },
  {
   "cell_type": "code",
   "execution_count": null,
   "metadata": {
    "collapsed": true
   },
   "outputs": [],
   "source": []
  }
 ],
 "metadata": {
  "kernelspec": {
   "display_name": "Python 3",
   "language": "python",
   "name": "python3"
  },
  "language_info": {
   "codemirror_mode": {
    "name": "ipython",
    "version": 3
   },
   "file_extension": ".py",
   "mimetype": "text/x-python",
   "name": "python",
   "nbconvert_exporter": "python",
   "pygments_lexer": "ipython3",
   "version": "3.6.3"
  }
 },
 "nbformat": 4,
 "nbformat_minor": 2
}
